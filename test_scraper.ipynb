{
 "cells": [
  {
   "cell_type": "code",
   "execution_count": 1,
   "metadata": {},
   "outputs": [
    {
     "name": "stdout",
     "output_type": "stream",
     "text": [
      "hello world\n"
     ]
    }
   ],
   "source": [
    "print(\"hello world\")"
   ]
  },
  {
   "cell_type": "code",
   "execution_count": 9,
   "metadata": {},
   "outputs": [
    {
     "name": "stdout",
     "output_type": "stream",
     "text": [
      "https://www.farfetch.com/ae/shopping/men/versace-striped-loose-fit-shirt-item-18835459.aspx\n",
      "striped_loose_fit_shirt ....done\n"
     ]
    }
   ],
   "source": [
    "from PIL import Image\n",
    "from io import BytesIO\n",
    "import httpx\n",
    "import asyncio\n",
    "from requests_html import AsyncHTMLSession\n",
    "import os\n",
    "\n",
    "async def extract_product_images(url):\n",
    "    session = AsyncHTMLSession()\n",
    "    response = await session.get(url)\n",
    "    html = response.html.html\n",
    "    \n",
    "    # find the JSON-LD script containing product information\n",
    "    jsonld_script = None\n",
    "    for script in html.split(\"</script>\"):\n",
    "        if \"@type\\\":\\\"Product\\\"\" in script:\n",
    "            jsonld_script = script + \"</script>\"\n",
    "            break\n",
    "    if jsonld_script is None:\n",
    "        return [] # no product JSON-LD script found\n",
    "    # parse the JSON-LD script to extract image URLs\n",
    "    links = []\n",
    "    start_index = jsonld_script.find(\"\\\"image\\\":[{\") + len(\"\\\"image\\\":[{\")\n",
    "    end_index = jsonld_script.find(\"}]\", start_index) + len(\"}]\")\n",
    "    image_str = jsonld_script[start_index:end_index]\n",
    "    while True:\n",
    "        url_start = image_str.find(\"\\\"contentUrl\\\":\\\"\") + len(\"\\\"contentUrl\\\":\\\"\")\n",
    "        if url_start == len(\"\\\"contentUrl\\\":\\\"\") - 1:\n",
    "            break\n",
    "        url_end = image_str.find(\"\\\"\", url_start)\n",
    "        url = image_str[url_start:url_end]\n",
    "        if url.endswith(\".jpg\"):\n",
    "            # print(url)\n",
    "            links.append(url)\n",
    "        image_str = image_str[url_end:]\n",
    "    # print(links)\n",
    "    start_index = jsonld_script.find(\"\\\"name\\\":\\\"\") + len(\"\\\"name\\\":\\\"\")\n",
    "    end_index = jsonld_script.find(\"\\\"\", start_index)\n",
    "    folder_name = jsonld_script[start_index:end_index].replace(\" \", \"_\").replace(\"-\", \"_\")\n",
    "    ###########\n",
    "    os.makedirs(os.path.join(os.getcwd(), \"clothing\"), exist_ok=True)\n",
    "    os.makedirs(os.path.join(os.getcwd(), \"clothing\", folder_name), exist_ok=True)\n",
    "\n",
    "    for url in links:\n",
    "        filename = url.split(\"/\")[-1]\n",
    "        client = httpx.AsyncClient(http2=True)\n",
    "        response = await client.get(url)\n",
    "        image = Image.open(BytesIO(response.content)).convert(\"RGB\")\n",
    "        image.save(\n",
    "            os.path.join(os.getcwd(), \"clothing\", folder_name, filename), format=\"JPEG\"\n",
    "        )\n",
    "    print(folder_name, '....done')\n",
    "\n",
    "\n",
    "if __name__ == \"__main__\":\n",
    "    url_list=(\n",
    "        \"https://www.farfetch.com/ae/shopping/men/versace-striped-loose-fit-shirt-item-18835459.aspx\",\n",
    "        # \"https://www.farfetch.com/au/shopping/women/oscar-de-la-renta-floral-applique-crochet-knit-dress-item-19028843.aspx\",\n",
    "        # \"https://www.farfetch.com/au/shopping/women/zuhair-murad-floral-lace-peplum-blouse-item-18394400.aspx\",\n",
    "        # \"https://www.farfetch.com/au/shopping/women/miu-miu-sequin-embellished-cropped-jacket-item-18252949.aspx\",\n",
    "        # \"https://www.farfetch.com/au/shopping/women/valentino-tulle-illusione-sequin-embroidered-blouse-item-19183134.aspx\",\n",
    "        # \"https://www.farfetch.com/au/shopping/women/oscar-de-la-renta-floral-embroidery-asymmetric-top-item-14595708.aspx\",\n",
    "        # \"https://www.farfetch.com/au/shopping/women/oscar-de-la-renta-fil-coupe-bustier-top-item-14333843.aspx\",\n",
    "        # \"https://www.farfetch.com/au/shopping/women/elie-saab-feather-trim-crepe-blouse-item-19116639.aspx\",\n",
    "        # \"https://www.farfetch.com/au/shopping/women/oscar-de-la-renta-floral-tapestry-ruched-hem-dress-item-18658945.aspx?storeid=11092&rtype=inspire_portal_pdp_generic_a&rpos=3&rid=8b325145-a03f-4d34-8bfa-0c2efc24090b\",\n",
    "        # \"https://www.farfetch.com/au/shopping/women/oscar-de-la-renta-floral-lace-a-line-gown-item-19029712.aspx?storeid=10351&rtype=inspire_portal_pdp_generic_a&rpos=2&rid=8b325145-a03f-4d34-8bfa-0c2efc24090b\",\n",
    "        # \"https://www.farfetch.com/au/shopping/women/oscar-de-la-renta-floral-jacquard-gown-item-19029714.aspx?storeid=11092&rtype=inspire_portal_pdp_generic_a&rpos=1&rid=8b325145-a03f-4d34-8bfa-0c2efc24090b\",\n",
    "        # \"https://www.farfetch.com/au/shopping/women/balmain-sky-print-tulle-maxi-dress-item-19684854.aspx\",\n",
    "        # \"https://www.farfetch.com/au/shopping/women/ferragamo-printed-draped-midi-dress-item-19709156.aspx\",\n",
    "        # \"https://www.farfetch.com/au/shopping/women/ferragamo-graphic-print-silk-shirt-item-18885407.aspx?storeid=13539\",\n",
    "        # \"https://www.farfetch.com/au/shopping/women/ferragamo-rhinestone-embellished-straight-leg-trousers-item-19276278.aspx?storeid=14540\",\n",
    "        # \"https://www.farfetch.com/au/shopping/women/ferragamo-leather-hooded-jacket-item-19709178.aspx?storeid=14540\",\n",
    "        # \"https://www.farfetch.com/au/shopping/women/ferragamo-transparent-drape-dress-item-19709168.aspx?storeid=14540\",\n",
    "        # \"https://www.farfetch.com/au/shopping/women/ferragamo-one-shoulder-draped-dress-item-19709185.aspx?storeid=14540\",\n",
    "        # \"https://www.farfetch.com/au/shopping/women/ferragamo-panelled-herringbone-pattern-single-breasted-coat-item-19590158.aspx?storeid=10344\",\n",
    "        # \"https://www.farfetch.com/au/shopping/women/brunello-cucinelli-floral-wrap-maxi-skirt-item-19244730.aspx\",\n",
    "        # \"https://www.farfetch.com/au/shopping/women/dolce-gabbana-crystal-embellished-wrap-around-swimsuit-item-17734776.aspx\",\n",
    "        # \"https://www.farfetch.com/au/shopping/women/dolce-gabbana-carretto-print-long-chiffon-dress-item-16924802.aspx\",\n",
    "        # \"https://www.farfetch.com/au/shopping/women/amir-slama-floral-print-silk-long-dress-item-14847295.aspx\",\n",
    "        # \"https://www.farfetch.com/au/shopping/women/philipp-plein-crystal-studded-jacket-item-18871207.aspx\",\n",
    "        # \"https://www.farfetch.com/au/shopping/women/philipp-plein-studded-leather-biker-jacket-item-15413095.aspx\",\n",
    "        # \"https://www.farfetch.com/au/shopping/women/oscar-de-la-renta-butterfly-applique-cropped-jacket-item-19466557.aspx\",\n",
    "        # \"https://www.farfetch.com/au/shopping/women/brunello-cucinelli-monili-tab-embellished-shearling-jacket-item-18610122.aspx\",\n",
    "        # \"https://www.farfetch.com/au/shopping/women/saiid-kobeisy-bead-embellished-peplum-suit-item-16869458.aspx\",\n",
    "        # \"https://www.farfetch.com/au/shopping/women/valentino-tulle-illusione-embroidered-blouse-item-18656968.aspx\",\n",
    "        # \"https://www.farfetch.com/au/shopping/women/etro-sequin-embellished-plunge-cropped-top-item-19187728.aspx\",\n",
    "        # \"https://www.farfetch.com/au/shopping/women/oscar-de-la-renta-floral-embroidery-asymmetric-top-item-14595708.aspx\",\n",
    "        # \"https://www.farfetch.com/au/shopping/women/valentino-golden-wings-brocade-overshirt-item-19184246.aspx\",\n",
    "        # \"https://www.farfetch.com/au/shopping/women/dolce-gabbana-kim-dolcegabbana-beaded-fringe-bustier-top-item-19391177.aspx\",\n",
    "        # \"https://www.farfetch.com/au/shopping/women/valentino-bead-embellished-cotton-poplin-shirt-item-19183299.aspx\",\n",
    "        # \"https://www.farfetch.com/au/shopping/women/oscar-de-la-renta-crystal-embellished-silk-blouse-item-19303249.aspx\",\n",
    "        # \"https://www.farfetch.com/au/shopping/women/ferragamo-suede-regular-trousers-item-19662679.aspx\",\n",
    "        # \"https://www.farfetch.com/au/shopping/women/ferragamo-jacquard-double-breast-coat-item-19568157.aspx\",\n",
    "        # \"https://www.farfetch.com/au/shopping/women/ferragamo-sleeveless-graphic-print-dress-item-18885410.aspx\",\n",
    "        # \"https://www.farfetch.com/au/shopping/women/ferragamo-graphic-print-silk-midi-skirt-item-18885406.aspx\",\n",
    "        # \"https://www.farfetch.com/au/shopping/women/ferragamo-logo-motif-virgin-wool-cardigan-item-18528699.aspx\"\n",
    "    )\n",
    "    \n",
    "    for url in url_list:\n",
    "        print(url)\n",
    "        await extract_product_images(url=url)\n"
   ]
  },
  {
   "cell_type": "code",
   "execution_count": null,
   "metadata": {},
   "outputs": [],
   "source": []
  },
  {
   "cell_type": "code",
   "execution_count": 2,
   "metadata": {},
   "outputs": [],
   "source": [
    "from PIL import Image\n",
    "from io import BytesIO\n",
    "import httpx\n",
    "import asyncio\n",
    "from requests_html import AsyncHTMLSession\n",
    "import os\n",
    "\n",
    "# async def scrape(url):\n",
    "#     session = AsyncHTMLSession()\n",
    "#     r = await session.get(url)\n",
    "#     image_links = r.html.find(\"img\")\n",
    "\n",
    "#     links = []\n",
    "#     for imag in image_links:\n",
    "#         try:\n",
    "#             link = imag.attrs[\"src\"]\n",
    "#             if link.startswith(\"https://cdn-image\"):\n",
    "#                 links.append(link)\n",
    "#         except KeyError:\n",
    "#             pass\n",
    "#     folder_name = url.split(\"/\")[-1].split(\".\")[0].replace(\"-\", \"_\")\n",
    "#     os.makedirs(os.path.join(os.getcwd(), \"clothing\"), exist_ok=True)\n",
    "#     os.makedirs(os.path.join(os.getcwd(), \"clothing\", folder_name), exist_ok=True)\n",
    "\n",
    "#     for url in links:\n",
    "#         filename = url.split(\"/\")[-1]\n",
    "#         client = httpx.AsyncClient(http2=True)\n",
    "#         response = await client.get(url)\n",
    "#         image = Image.open(BytesIO(response.content)).convert(\"RGB\")\n",
    "#         image.save(\n",
    "#             os.path.join(os.getcwd(), \"clothing\", folder_name, filename), format=\"JPEG\"\n",
    "#         )\n",
    "\n",
    "\n",
    "# if __name__ == \"__main__\":\n",
    "#     url = \"https://www.farfetch.com/ae/shopping/men/versace-striped-loose-fit-shirt-item-18835459.aspx\"\n",
    "#     await scrape(url=url)\n"
   ]
  },
  {
   "cell_type": "code",
   "execution_count": 3,
   "metadata": {},
   "outputs": [],
   "source": [
    "from PIL import Image"
   ]
  },
  {
   "cell_type": "code",
   "execution_count": 23,
   "metadata": {},
   "outputs": [],
   "source": [
    "x = Image.open('/home/ali/siavash/scraper/farfetch/722473_Z6519_4440_001_100_0000_Light-Light-cashmere-twill-formal-jacket.jpg')\n"
   ]
  },
  {
   "cell_type": "code",
   "execution_count": 24,
   "metadata": {},
   "outputs": [
    {
     "data": {
      "text/plain": [
       "'RGB'"
      ]
     },
     "execution_count": 24,
     "metadata": {},
     "output_type": "execute_result"
    }
   ],
   "source": [
    "x.mode"
   ]
  },
  {
   "cell_type": "code",
   "execution_count": null,
   "metadata": {},
   "outputs": [],
   "source": [
    "!pip install httpx[http2]\n",
    "!pip install requests-html"
   ]
  }
 ],
 "metadata": {
  "kernelspec": {
   "display_name": "Python 3 (ipykernel)",
   "language": "python",
   "name": "python3"
  },
  "language_info": {
   "codemirror_mode": {
    "name": "ipython",
    "version": 3
   },
   "file_extension": ".py",
   "mimetype": "text/x-python",
   "name": "python",
   "nbconvert_exporter": "python",
   "pygments_lexer": "ipython3",
   "version": "3.8.3"
  },
  "vscode": {
   "interpreter": {
    "hash": "9b79c8b9766d60f218ea0d49ada50b74df0a1c6e0e69dee83863a3110761eb25"
   }
  }
 },
 "nbformat": 4,
 "nbformat_minor": 2
}
